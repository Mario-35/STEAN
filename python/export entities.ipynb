{
 "cells": [
  {
   "cell_type": "code",
   "execution_count": 1,
   "id": "1faaf2d1-494f-4cb5-919d-51a5f04d1bdf",
   "metadata": {},
   "outputs": [],
   "source": [
    "from pathlib import Path\n",
    "from stean import instanceST\n",
    "import requests"
   ]
  },
  {
   "cell_type": "code",
   "execution_count": 2,
   "id": "c194f940",
   "metadata": {},
   "outputs": [],
   "source": [
    "root = \"https://sensorthings.geosas.fr/rennesmetro/v1.1/\"\n",
    "sessionST=instanceST(root)"
   ]
  },
  {
   "cell_type": "code",
   "execution_count": 3,
   "id": "0903af74-6f2c-42a3-925c-a1f672eff6a5",
   "metadata": {},
   "outputs": [
    {
     "name": "stdout",
     "output_type": "stream",
     "text": [
      "Get Session\n",
      "https://sensorthings.geosas.fr/rennesmetro/v1.1/MultiDatastreams?$select=id\n",
      "Traitement de MultiDatastreams(1)\n",
      "Traitement de MultiDatastreams(2)\n",
      "Traitement de MultiDatastreams(3)\n",
      "Traitement de MultiDatastreams(4)\n",
      "Traitement de MultiDatastreams(5)\n",
      "Traitement de MultiDatastreams(6)\n",
      "Traitement de MultiDatastreams(7)\n",
      "Traitement de MultiDatastreams(8)\n",
      "Traitement de MultiDatastreams(9)\n",
      "Traitement de MultiDatastreams(10)\n"
     ]
    }
   ],
   "source": [
    "dir_export = Path(\".\").joinpath(\"Lora_export\")\n",
    "dir_export.mkdir(exist_ok=True, parents=True)\n",
    "entity = \"MultiDatastreams\"\n",
    "ids = sessionST.idList(entity)\n",
    "for id in ids:\n",
    "    print(f\"Traitement de {entity}({id})\")\n",
    "    url = f\"{root}{entity}({id})/Observations?$resultFormat=csv\"\n",
    "    r = requests.get(url)  \n",
    "    with open(dir_export.joinpath(f\"{entity}{id}.csv\"), 'wb') as f:\n",
    "        f.write(r.content)"
   ]
  },
  {
   "cell_type": "markdown",
   "id": "5cf1343b-5ba0-4d75-8553-df01ca7d193a",
   "metadata": {},
   "source": [
    "# Export données capteur"
   ]
  }
 ],
 "metadata": {
  "kernelspec": {
   "display_name": "Python 3",
   "language": "python",
   "name": "python3"
  },
  "language_info": {
   "codemirror_mode": {
    "name": "ipython",
    "version": 3
   },
   "file_extension": ".py",
   "mimetype": "text/x-python",
   "name": "python",
   "nbconvert_exporter": "python",
   "pygments_lexer": "ipython3",
   "version": "3.10.4"
  },
  "vscode": {
   "interpreter": {
    "hash": "c010a75cb85ed764366b4c036212a854917e56e5c79ee6d8efa9b66d0a094019"
   }
  }
 },
 "nbformat": 4,
 "nbformat_minor": 5
}
